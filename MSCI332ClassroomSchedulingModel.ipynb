{
 "cells": [
  {
   "cell_type": "markdown",
   "metadata": {},
   "source": [
    "## Problem Title\n"
   ]
  },
  {
   "cell_type": "markdown",
   "metadata": {},
   "source": [
    "####  Step 0: The model\n",
    "\n",
    "Decision Variables:\n",
    "\n",
    "$$\\begin{align*}\n",
    "&I \\in [{1,2,3,4,5,6,7,8,9,10}]\\\\\n",
    "&K \\in [{1,2,3,4,5,6,7}]\\\\\n",
    "&M \\in [{1,2,3,4}]\\\\\n",
    "\\end{align*}$$\n",
    "\n",
    "$X_{ki} = \\begin{cases}\n",
    "1 & \\mbox{if class $k \\in K$ is in room $i \\in I$,} \\\\\n",
    "0 & \\mbox{otherwise.}\n",
    "\\end{cases}$\n",
    "\n",
    "$Z_{kij} = \\begin{cases}\n",
    "1 & \\mbox{if class $k \\in K$ is moving from room $i \\in I$ to room $j \\in $I ,} \\\\\n",
    "0 & \\mbox{otherwise.}\n",
    "\\end{cases}$"
   ]
  },
  {
   "cell_type": "markdown",
   "metadata": {},
   "source": [
    "$$\\begin{array}{rll}\n",
    "\\text{min} & \\displaystyle 3Y_1^+ + 2Y_2^+ + 2Y_4^+\\\\\n",
    "\\text{s.t.}\\\\\n",
    "% Goal Optimization Goals\n",
    "& \\displaystyle \\sum_{i=1}^I X_{ki}R_{i} +\\sum_{i=1}^I\\sum_{j=1}^I Z_{kij}TE_{kij} - (Y_{1}^+ - Y_{1}^-) = 1100 \\quad \\forall k\\in K\\\\\n",
    "& \\displaystyle \\sum_{i=1}^I X_{ki}R_{i} - (Y_{2}^+ - Y_{2}^-) = 19 \\quad \\forall k\\in K\\\\\n",
    "& \\displaystyle \\sum_{i=1}^I\\sum_{j=1}^I X_{ki}Z_{kij}T_{kij} - (Y_{3}^+ - Y_{3}^-) = 55 \\quad \\forall k\\in K\\\\\n",
    "& \\displaystyle \\sum_{i=1}^I\\sum_{j=1}^I X_{ki}Z_{kij}E_{kij} - (Y_{4}^+ - Y_{4}^-) = 19 \\quad \\forall k\\in K\\\\\n",
    "% Constraints\n",
    "& \\displaystyle \\sum_{i=1}^I\\sum_{j=1}^I Z_{kij} \\geq 5 \\quad \\forall k\\in K\\\\\n",
    "& \\displaystyle \\sum_{i=9}^I X_{ki} \\leq 2 \\quad \\forall k\\in K\\\\\n",
    "& \\displaystyle \\sum_{i=1}^I X_{ki} = 1 \\quad \\forall k\\in K\\\\\n",
    "& \\displaystyle X_{k8} = 1 \\quad \\forall k\\in K\\\\\n",
    "\\end{array}$$\n",
    "\n",
    "$$\\begin{align*}\n",
    "&T_{kij} \\geq 0 \\text{ and integer where } k \\in K, i \\in I, j \\in I, \\text{and } i \\neq j \\\\\n",
    "&E_{kij} \\geq 0 \\text{ and integer where } k \\in K, i \\in I, j \\in I,\\text{and } i \\neq j \\\\\n",
    "&TE_{kij} \\geq 0 \\text{ and integer where } k \\in K, i \\in I, j \\in I, \\text{and } i \\neq j \\\\\n",
    "&R_{i} \\geq 0 \\text{ and integer where } k \\in K, i \\in I \\\\\n",
    "&X_{ki} \\in [{0,1}] \\text{ where } k \\in K, i \\in I \\\\\n",
    "&Z_{kij} \\in [{0,1}] \\text{ and integer where } k \\in K, i \\in I, j \\in I, \\text{and } i \\neq j \\\\\n",
    "&Y_{m}^+,Y_{m}^- \\geq 0 \\text{ where } m \\in M, \\text{and } Y_{m}^+ \\text{ is a surplus variable and } Y_{m}^- \\text{is a slack variable }\\\\\n",
    "\\end{align*}$$"
   ]
  },
  {
   "cell_type": "markdown",
   "metadata": {},
   "source": [
    "#### Step 1: Import gurobipy module"
   ]
  },
  {
   "cell_type": "code",
   "execution_count": 1,
   "metadata": {},
   "outputs": [],
   "source": [
    "import gurobipy as gp\n",
    "from gurobipy import GRB\n",
    "import pandas as pd"
   ]
  },
  {
   "cell_type": "markdown",
   "metadata": {},
   "source": [
    "#### Step 1.1 Reading from a file"
   ]
  },
  {
   "cell_type": "code",
   "execution_count": null,
   "metadata": {},
   "outputs": [],
   "source": [
    "MainFile = pd.read_json(\"Testing.txt\",orient='columns')\n",
    "MainFile\n",
    "\n",
    "dataframe = pd.DataFrame(MainFile)\n",
    "print(dataframe)\n",
    " \n",
    "# print(dataframe['Average Transition Time Matrix']) \n",
    "# print(dataframe['Transition Risk Exposure Score']) \n",
    "# print(dataframe['Room Risk Exposure Score']) \n",
    "\n",
    "# dataframe['Average Transition Time Matrix'][0][0] # grabbing values from matrix ['Average Transition Time Matrix'][i][j] at (row=i,column=j) where i={0-9} and j={0-9}\n",
    "# dataframe['Transition Risk Exposure Score'][0][0] # grabbing values from matrix ['Transition Risk Exposure Score'][i][j] at (row=i,column=j) where i={0-9} and j={0-9}\n",
    "# dataframe['Room Risk Exposure Score']['Score'][0] # grabbing values from matrix ['Room Risk Exposure Score']['Score'][i] where i={0-9}\n"
   ]
  },
  {
   "cell_type": "markdown",
   "metadata": {},
   "source": [
    "#### Step 2: Define the model"
   ]
  },
  {
   "cell_type": "code",
   "execution_count": null,
   "metadata": {},
   "outputs": [],
   "source": [
    "m = gp.Model()"
   ]
  },
  {
   "cell_type": "markdown",
   "metadata": {},
   "source": [
    "#### Step 3: Define your sets"
   ]
  },
  {
   "cell_type": "code",
   "execution_count": null,
   "metadata": {},
   "outputs": [],
   "source": [
    "# number of rooms in the system\n",
    "I=10\n",
    "# number of classes in the system\n",
    "K=7"
   ]
  },
  {
   "cell_type": "markdown",
   "metadata": {},
   "source": [
    "#### Step 4: Define the parameters"
   ]
  },
  {
   "cell_type": "code",
   "execution_count": null,
   "metadata": {},
   "outputs": [],
   "source": [
    "# dataframe['Average Transition Time Matrix'][0][0] # grabbing values from matrix ['Average Transition Time Matrix'][i][j] at (row=i,column=j) where i={0-9} and j={0-9}\n",
    "# dataframe['Transition Risk Exposure Score'][0][0] # grabbing values from matrix ['Transition Risk Exposure Score'][i][j] at (row=i,column=j) where i={0-9} and j={0-9}\n",
    "# dataframe['Room Risk Exposure Score']['Score'][0] # grabbing values from matrix ['Room Risk Exposure Score']['Score'][i] where i={0-9}"
   ]
  },
  {
   "cell_type": "markdown",
   "metadata": {},
   "source": [
    "#### Step 5: Define the decision variables"
   ]
  },
  {
   "cell_type": "code",
   "execution_count": null,
   "metadata": {},
   "outputs": [],
   "source": [
    "x={}\n",
    "for i in range(I):\n",
    "    for j in range(I):\n",
    "       \n",
    "\n",
    "z={}\n",
    "for i in range(I):\n",
    "    \n"
   ]
  },
  {
   "cell_type": "markdown",
   "metadata": {},
   "source": [
    "#### Step 6: Set the objective function\n"
   ]
  },
  {
   "cell_type": "code",
   "execution_count": null,
   "metadata": {},
   "outputs": [],
   "source": [
    "m.modelSense = GRB.MINIMIZE"
   ]
  },
  {
   "cell_type": "markdown",
   "metadata": {},
   "source": [
    "#### Step 6: Add the constraints"
   ]
  },
  {
   "cell_type": "code",
   "execution_count": null,
   "metadata": {},
   "outputs": [],
   "source": [
    "m.addConstrs() \n",
    "m.addConstrs()\n",
    "m.addConstrs() \n",
    "m.addConstrs()\n",
    "m.addConstrs() \n",
    "m.addConstrs()\n",
    "m.addConstrs() \n",
    "m.addConstrs()\n",
    "m.update()"
   ]
  },
  {
   "cell_type": "markdown",
   "metadata": {},
   "source": [
    "#### Step 7: Solve the model"
   ]
  },
  {
   "cell_type": "code",
   "execution_count": null,
   "metadata": {},
   "outputs": [],
   "source": [
    "#m.Params.TimeLimit=300 #(seconds) optional: sets a time limit for optimization only if you need to prematurely stop the solution procedure\n",
    "m.optimize()"
   ]
  },
  {
   "cell_type": "markdown",
   "metadata": {},
   "source": [
    "#### Step 8: Print variable values  (The Messy Way)"
   ]
  },
  {
   "cell_type": "code",
   "execution_count": null,
   "metadata": {},
   "outputs": [],
   "source": [
    "for myVars in m.getVars():\n",
    "    print('%s %g' % (myVars.varName, myVars.x))\n",
    "print('\\n')\n",
    "for myVars in m.getVars():\n",
    "    print('%s %g' % (myVars.varName, myVars.z))    \n",
    "    "
   ]
  },
  {
   "cell_type": "markdown",
   "metadata": {},
   "source": [
    "#### Step 8 Alternate: Print the solution (The Easy To Read Way)"
   ]
  },
  {
   "cell_type": "code",
   "execution_count": null,
   "metadata": {},
   "outputs": [],
   "source": []
  },
  {
   "cell_type": "markdown",
   "metadata": {},
   "source": [
    "#### Optional Step: Exporting the LP File for Debugging\n",
    "Export it to an LP file and check if it is in the desired shape."
   ]
  },
  {
   "cell_type": "code",
   "execution_count": null,
   "metadata": {},
   "outputs": [],
   "source": [
    "m.write(\"checkModel.lp\")"
   ]
  }
 ],
 "metadata": {
  "kernelspec": {
   "display_name": "Python 3",
   "language": "python",
   "name": "python3"
  },
  "language_info": {
   "codemirror_mode": {
    "name": "ipython",
    "version": 3
   },
   "file_extension": ".py",
   "mimetype": "text/x-python",
   "name": "python",
   "nbconvert_exporter": "python",
   "pygments_lexer": "ipython3",
   "version": "3.8.3"
  }
 },
 "nbformat": 4,
 "nbformat_minor": 4
}
