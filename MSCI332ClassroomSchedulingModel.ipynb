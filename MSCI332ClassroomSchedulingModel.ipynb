{
 "cells": [
  {
   "cell_type": "markdown",
   "metadata": {},
   "source": [
    "## Group 22 Application #3: Scheduling With Distancing\n"
   ]
  },
  {
   "cell_type": "markdown",
   "metadata": {},
   "source": [
    "#### Step 0: The model\n",
    "\n",
    "#### Problem Statement:\n",
    "Due to the pandemic, many essential services including the schools have been affected. With the uncertainty of in-person schooling, parents are worried about the safety of their children in school. The problem we’re addressing is finding a way to minimize the exposure score. Each class is assigned a daily exposure score made up of the transition times/exposure score (minutes/points) between rooms and the risk exposure score (points) of being in a certain type of room. The point of this score is to adhere to the safety measures presented by the school and allow a decision maker to better construct a schedule for a school. <br>\n",
    "\n",
    "#### Restricted Application Scenario (Assumptions):\n",
    "- All classes will be in-person, 5 days a week (Mon-Fri) <br>\n",
    "- Only considering students and teachers <br>\n",
    "- School environment (total of 10 rooms) <br>\n",
    " - 7 classrooms <br>\n",
    " - 1 gym <br>\n",
    " - 1 cafeteria <br>\n",
    " - 1 library <br>\n",
    " - Classrooms are disinfected after the end of every school day <br>\n",
    "- Each room can only hold 1 class at a time (= 1) <br>\n",
    "\n",
    "#### Constraints (Implemented by the School Board):\n",
    "- Each class must visit the cafeteria once a day (= 1)  <br>\n",
    "- Each class must visit either gym or library or both or none once a day (<= 1)  <br>\n",
    "- Each class must transition at least 5 times a day (>=5)  <br>\n",
    "\n",
    "#### Goals (Requested by the School Board):\n",
    "- Daily exposure score (Daily sum of Room Risk Exposure score per class + Daily sum product of Average Transition Time*Transition Risk Exposure score) per class should be less than 60 <br>\n",
    "- Daily summation of room risk exposure score per class should be less than 15 <br>\n",
    "- Daily summation of average transition time per class should be less than 13 <br>\n",
    "- Daily sum of transition risk exposure score per class should be less than 13 <br>\n",
    "\n",
    "#### Sets:\n",
    "\n",
    "Let K = [1,7] be the number of classes <br>\n",
    "Let J = [1,10] be the number of rooms in the school where classrooms are 1-7, cafeteria = 8, gym = 9 and library = 10 <br>\n",
    "Let M = [1,4] be the subscript values for the slack/surplus variables <br>\n",
    "\n",
    "#### Parameters: <br>\n",
    "\n",
    "$ T_{kij} $ = Average Transition Time Matrix for class k moving from room i to room j, where $\\forall k\\in K$, $\\forall i\\in J$ , $\\forall j\\in J$ and $i \\ne j$  <br> \n",
    "$ E_{kij} $ = Transition Risk Exposure score for class k moving from room i to room j, where $\\forall k\\in K$, $\\forall i\\in J$ , $\\forall j\\in J$ and $i \\ne j$  <br> \n",
    "$ R_{i} $ = Room Risk Exposure score of room, where $\\forall i\\in J$ <br>\n",
    "\n",
    "\n",
    "#### Slack and Surplus Variables <br>\n",
    "\n",
    "$ Y^{+}_{m} $ is a surplus variable and $ Y^{-}_{m} $ is a slack variable where $\\forall m \\in M$ <br> \n",
    "$ Y^{+}_{1} $ is a surplus variable and $ Y^{-}_{1} $ is a slack variable for daily class exposure score <br>\n",
    "$ Y^{+}_{2} $ is a surplus variable and $ Y^{-}_{2} $ is a slack variable for room risk exposure score <br>\n",
    "$ Y^{+}_{3} $ is a surplus variable and $ Y^{-}_{3} $ is a slack variable for average transition time <br>\n",
    "$ Y^{+}_{4} $ is a surplus variable and $ Y^{-}_{4} $ is a slack variable for transition risk exposure score <br>\n",
    "\n",
    "#### Decision Variables: <br>\n",
    "\n",
    "$B_{i} = \\begin{cases}\n",
    "1 & \\mbox{if room i is was used, where $i \\in J$} \\\\\n",
    "0 & \\mbox{otherwise}\n",
    "\\end{cases}$ <br>\n",
    "\n",
    "$X_{ki} = \\begin{cases}\n",
    "1 & \\mbox{if class k is in room i, where $k \\in K$ and $i \\in J$} \\\\\n",
    "0 & \\mbox{otherwise}\n",
    "\\end{cases}$ <br>\n",
    "\n",
    "$Z_{kij} = \\begin{cases}\n",
    "1 & \\mbox{if class k moving from room i to room j, where $k \\in K$, $i \\in J$, $j \\in J$ and $i \\ne j$} \\\\\n",
    "0 & \\mbox{otherwise}\n",
    "\\end{cases}$ <br>\n",
    "\n",
    "\n",
    "#### Penalty Weightings: <br>\n",
    "\n",
    "Weighting of 3:<br>\n",
    "- Going over the daily class exposure score per 1 point over <br>\n",
    "\n",
    "Weighting of 2:<br>\n",
    "- Going over the daily class k room risk exposure score per 1 point over <br>\n",
    "- Going over the daily class k average transition time per 1 minute over <br>\n",
    "- Going over the daily class k transition risk exposure score per 1 point over <br>\n",
    "\n",
    "\n",
    "#### Objective Function: <br>\n",
    "\n",
    "$$\\begin{array}{rll}\n",
    "\\text{min} & 3  Y^{+}_{1} + 2 Y^{+}_{2} + 2 Y^{+}_{3} + 2 Y^{+}_{4} \\\\\n",
    "\\text{s.t.} \n",
    "& \\text{(1) }\\displaystyle \\sum_{i=1}^J X_{ki} R_i + \\sum_{i=1}^J \\sum_{j=1}^J Z_{kij} T_{ij}E_{ij} - (Y^{+}_{1} - Y^{-}_{1}) = 60, \\forall k \\in K, i \\ne j \\\\\n",
    "& \\text{(2) }\\displaystyle \\sum_{i=1}^J X_{ki} R_i - (Y^{+}_{2} - Y^{-}_{2}) = 15, \\forall k \\in K \\\\\n",
    "& \\text{(3) }\\displaystyle \\sum_{i=1}^J \\sum_{j=1}^J Z_{kij}T_{ij} - (Y^{+}_{3} - Y^{-}_{3}) = 13, \\forall k \\in K, i \\ne j\\\\\n",
    "& \\text{(4) }\\displaystyle \\sum_{i=1}^J \\sum_{j=1}^J Z_{kij}E_{ij} - (Y^{+}_{4} - Y^{-}_{4}) = 13, \\forall k \\in K, i \\ne j\\\\\n",
    "& \\text{(5) }\\displaystyle \\sum_{i=1}^J \\sum_{j=1}^J Z_{kij} \\geq 5, \\forall k \\in K, i \\ne j,  \\text {each class k must transition 7 times a day } \\\\\n",
    "& \\text{(6) }\\displaystyle \\sum_{i=9}^J X_{ki} \\leq 2, \\forall k \\in K, \\text {each class k may visit the gym or library or both or none in a day } \\\\\n",
    "& \\text{(7) }\\displaystyle X_{k8} = 1, \\forall k \\in K, \\text {each class k must eat once in the cafeteria} \\\\\n",
    "& \\text{(8) }\\displaystyle Z_{kij}+B{i} - 1 \\leq Z_{kij}*B[i], \\forall k \\in K, \\forall i\\in J , \\forall j\\in J,i \\ne j, \\text {linearize quadratic constraints} \\\\\n",
    "& \\displaystyle T_{ij} \\geq 0, \\text {and integer where, } \\forall k \\in K, \\forall i\\in J , \\forall j\\in J,i \\ne j \\\\\n",
    "& \\displaystyle E_{kij} \\geq 0, \\text {and integer where, } \\forall k \\in K, \\forall i\\in J , \\forall j\\in J,i \\ne j \\\\\n",
    "& \\displaystyle R_{i} \\geq 0, \\text {and integer where, } \\forall k \\in K, \\forall i\\in J \\\\\n",
    "& \\displaystyle X_{ki} \\in \\lbrace0,1\\rbrace \\quad \\forall k \\in K, \\forall i\\in J \\\\\n",
    "& \\displaystyle Z_{kij} \\in \\lbrace0,1\\rbrace \\quad \\forall k \\in K, \\forall i\\in J \\forall j\\in J,i \\ne j \\\\\n",
    "& \\displaystyle B_{i} \\in \\lbrace0,1\\rbrace \\quad \\forall i\\in J \\\\\n",
    "& \\displaystyle Y^{+}_{m}, Y^{-}_{m} \\leq 0,  \\forall m \\in M,\\text { where } Y^{+}_{m} \\text {is a surplus variable and }Y^{-}_{m} \\text { is a slack variable} \\\\ \n",
    "& \\displaystyle K = [1,7] \\text { be the number of classes} \\\\\n",
    "& \\displaystyle J = [1,10] \\text { be the number of rooms in the school where classrooms are 1-7, cafeteria = 8, gym = 9 and library = 10} \\\\ \n",
    "& \\displaystyle M = [1,4] \\text { be the subscript values for the slack/surplus variables} \\\\ \n",
    "\\end{array}$$ <br>\n",
    "\n"
   ]
  },
  {
   "cell_type": "markdown",
   "metadata": {},
   "source": [
    "#### Step 1: Import gurobipy module"
   ]
  },
  {
   "cell_type": "code",
   "execution_count": null,
   "metadata": {},
   "outputs": [],
   "source": [
    "import gurobipy as gp\n",
    "from gurobipy import GRB\n",
    "import pandas as pd"
   ]
  },
  {
   "cell_type": "markdown",
   "metadata": {},
   "source": [
    "#### Step 1.1 Reading from a file"
   ]
  },
  {
   "cell_type": "code",
   "execution_count": null,
   "metadata": {},
   "outputs": [],
   "source": [
    "MainFile = pd.read_json(\"Testing.txt\",orient='columns')\n",
    "MainFile\n",
    "\n",
    "dataframe = pd.DataFrame(MainFile)\n",
    "# print(dataframe)\n",
    " \n",
    "# print(dataframe['Average Transition Time Matrix']) \n",
    "# print(dataframe['Transition Risk Exposure Score']) \n",
    "# print(dataframe['Room Risk Exposure Score']) \n",
    "\n",
    "# dataframe['Average Transition Time Matrix'][0][0] # grabbing values from matrix ['Average Transition Time Matrix'][i][j] at (row=i,column=j) where i={0-9} and j={0-9}\n",
    "# dataframe['Transition Risk Exposure Score'][9] # grabbing values from matrix ['Transition Risk Exposure Score'][i][j] at (row=i,column=j) where i={0-9} and j={0-9}\n",
    "# dataframe['Room Risk Exposure Score']['Score'][9] # grabbing values from matrix ['Room Risk Exposure Score']['Score'][i] where i={0-9}\n"
   ]
  },
  {
   "cell_type": "markdown",
   "metadata": {},
   "source": [
    "#### Step 2: Define the model"
   ]
  },
  {
   "cell_type": "code",
   "execution_count": null,
   "metadata": {},
   "outputs": [],
   "source": [
    "m = gp.Model('Classroom Scheduling Model')"
   ]
  },
  {
   "cell_type": "markdown",
   "metadata": {},
   "source": [
    "#### Step 3: Define your sets"
   ]
  },
  {
   "cell_type": "code",
   "execution_count": null,
   "metadata": {},
   "outputs": [],
   "source": [
    "# Number of classes in the school\n",
    "K = 7\n",
    "\n",
    "# Number of rooms in the school where classrooms are 1-7, cafeteria = 8, gym = 9 and library = 10\n",
    "J = 10\n",
    "\n",
    "# Subscript values for slack/surplus variables\n",
    "M = 4"
   ]
  },
  {
   "cell_type": "markdown",
   "metadata": {},
   "source": [
    "#### Step 4: Define the parameters"
   ]
  },
  {
   "cell_type": "code",
   "execution_count": null,
   "metadata": {},
   "outputs": [],
   "source": [
    "# Values for Slack/Surplus Variables\n",
    "mPlus = [3,2,2,2]\n",
    "mMinus = [0,0,0,0]"
   ]
  },
  {
   "cell_type": "markdown",
   "metadata": {},
   "source": [
    "#### Step 5: Define the decision variables"
   ]
  },
  {
   "cell_type": "code",
   "execution_count": null,
   "metadata": {},
   "outputs": [],
   "source": [
    "x = {}\n",
    "for k in range(K):\n",
    "    for i in range(J):\n",
    "        x[k,i] = m.addVar(vtype=GRB.BINARY, name=\"x_\"+str(k)+str(i))\n",
    "\n",
    "RT = {}\n",
    "for k in range(K):\n",
    "    for i in range(J):\n",
    "        for j in range(J):\n",
    "            RT[k,i,j] = m.addVar(vtype=GRB.BINARY, name=\"r_\"+str(k)+str(i)+str(j))        \n",
    "\n",
    "z = {}\n",
    "for k in range(K):\n",
    "    for i in range(J):\n",
    "        for j in range(J):\n",
    "            z[k,i,j] = m.addVar(vtype=GRB.BINARY, name=\"z_\"+str(k)+str(i)+str(j))\n",
    "            \n",
    "yPlus = {}\n",
    "for i in range(M):\n",
    "    yPlus[i] = m.addVar(vtype=GRB.CONTINUOUS, lb=0.0, obj=mPlus[i] , name=\"y+_\"+str(i))\n",
    "        \n",
    "yMinus = {}\n",
    "for i in range(M):\n",
    "    yMinus[i]= m.addVar(vtype=GRB.CONTINUOUS, lb=0.0, obj=mMinus[i] , name=\"y-_\"+str(i))"
   ]
  },
  {
   "cell_type": "markdown",
   "metadata": {},
   "source": [
    "#### Step 6: Set the objective function\n"
   ]
  },
  {
   "cell_type": "code",
   "execution_count": null,
   "metadata": {},
   "outputs": [],
   "source": [
    "# m.setObjective((sum(mPlus[i]*yPlus[i] for i in range(4))),GRB.MINIMIZE)\n",
    "\n",
    "m.ModelSense = GRB.MINIMIZE\n",
    "m.update()\n",
    "# m.write('testing.lp')"
   ]
  },
  {
   "cell_type": "markdown",
   "metadata": {},
   "source": [
    "#### Step 7: Add the constraints"
   ]
  },
  {
   "cell_type": "code",
   "execution_count": null,
   "metadata": {},
   "outputs": [],
   "source": [
    "# Goal/Constraint (1)\n",
    "m.addConstrs( ( sum(x[k,i]*dataframe['Room Risk Exposure Score']['Score'][i] for i in range(J) ) + \n",
    "             (sum(  sum(z[k,i,j]*dataframe['Average Transition Time Matrix'][i][j]*dataframe['Transition Risk Exposure Score'][i][j]\n",
    "                for j in range(J) if i != j) for i in range(J) if i != j) )\n",
    "               - (yPlus[0]-yMinus[0])  == 1100 ) for k in range(K) )\n",
    "\n",
    "# Goal/Constraint (2)\n",
    "m.addConstrs( ( sum(x[k,i]*dataframe['Room Risk Exposure Score']['Score'][i] for i in range(J) ) -\n",
    "              (yPlus[1]-yMinus[1]) == 15) for k in range(K) )\n",
    "\n",
    "# Goal/Constraint (3)\n",
    "m.addConstrs( ( sum(  sum(RT[k,i,j]*dataframe['Average Transition Time Matrix'][i][j]\n",
    "                for j in range(J) if i != j) for i in range(J) if i != j) \n",
    "               - (yPlus[2]-yMinus[2])  == 15 ) for k in range(K) )\n",
    "\n",
    "# Goal/Constraint (4)\n",
    "m.addConstrs( ( sum(  sum(RT[k,i,j]*dataframe['Transition Risk Exposure Score'][i][j]\n",
    "                for j in range(J) if i != j) for i in range(J) if i != j) \n",
    "               - (yPlus[3]-yMinus[3])  == 12 ) for k in range(K) )\n",
    "\n",
    "# Constraint (5) each class k transitions from room i  J to room j  J at least 5 times a day\n",
    "m.addConstrs( (sum(x[k,i] for i in range(J)) >= 6)  for k in range(K))\n",
    "\n",
    "# Constraint (6) each class k may visit the gym or library or both or none in a day\n",
    "m.addConstrs( ( sum(x[k,i] for i in range(8,J) ) <= 2) for k in range(K) )\n",
    "            \n",
    "#Constraint (7) each class k must eat once in the cafeteria\n",
    "m.addConstrs( ( (x[k,7]) == 1) for k in range(K) )\n",
    "\n",
    "# Constraint (8) linearized quadratic constraints using RT\n",
    "m.addConstrs( ( ((x[k,i]+z[k,i,j] -1) <= RT[k,i,j]) for i in range(J) for j in range(J) if i != j for k in range(K)) )\n",
    "\n",
    "# Constraint (9)\n",
    "m.addConstrs( (sum(sum(z[k,i,j] for k in range(K) ) for i in range(J) if i != j) == 1) for j in range(J) if i != j )\n",
    "\n",
    "# Update Model\n",
    "m.update() "
   ]
  },
  {
   "cell_type": "markdown",
   "metadata": {},
   "source": [
    "#### Step 8: Solve the model"
   ]
  },
  {
   "cell_type": "code",
   "execution_count": null,
   "metadata": {},
   "outputs": [],
   "source": [
    "# solves the model\n",
    "m.optimize() "
   ]
  },
  {
   "cell_type": "markdown",
   "metadata": {},
   "source": [
    "#### Step 9: Print variable values  (The Messy Way)"
   ]
  },
  {
   "cell_type": "code",
   "execution_count": null,
   "metadata": {},
   "outputs": [],
   "source": [
    "for myVars in m.getVars():\n",
    "    print('%s %g' % (myVars.varName, myVars.x))"
   ]
  },
  {
   "cell_type": "markdown",
   "metadata": {},
   "source": [
    "#### Step 9: Alternate: Print the solution (The Easy To Read Way)"
   ]
  },
  {
   "cell_type": "code",
   "execution_count": null,
   "metadata": {},
   "outputs": [],
   "source": [
    "print('\\nGoal Deviation Score: %g' % m.objVal) #gets the objective function value\n",
    "print('SOLUTION:')\n",
    "\n",
    "for k in range(K): \n",
    "    print('Class %s goes to the following rooms:'% (k+1) ) \n",
    "    for i in range (J):\n",
    "        if x[k,i].x > 0.99:   \n",
    "            print('%s' % (i+1) ) \n",
    "                "
   ]
  },
  {
   "cell_type": "markdown",
   "metadata": {},
   "source": [
    "#### Optional Step: Exporting the LP File for Debugging\n",
    "Export it to an LP file and check if it is in the desired shape."
   ]
  },
  {
   "cell_type": "code",
   "execution_count": null,
   "metadata": {},
   "outputs": [],
   "source": [
    "m.write(\"checkModel.lp\")"
   ]
  },
  {
   "cell_type": "code",
   "execution_count": null,
   "metadata": {},
   "outputs": [],
   "source": []
  }
 ],
 "metadata": {
  "kernelspec": {
   "display_name": "Python 3",
   "language": "python",
   "name": "python3"
  },
  "language_info": {
   "codemirror_mode": {
    "name": "ipython",
    "version": 3
   },
   "file_extension": ".py",
   "mimetype": "text/x-python",
   "name": "python",
   "nbconvert_exporter": "python",
   "pygments_lexer": "ipython3",
   "version": "3.8.3"
  }
 },
 "nbformat": 4,
 "nbformat_minor": 4
}
