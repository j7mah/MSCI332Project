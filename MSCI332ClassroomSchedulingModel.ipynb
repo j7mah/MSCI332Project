{
 "cells": [
  {
   "cell_type": "markdown",
   "metadata": {},
   "source": [
    "## Class Scheduling Problem\n"
   ]
  },
  {
   "cell_type": "markdown",
   "metadata": {},
   "source": [
    "####  Step 0: The model\n",
    "\n",
    "Decision Variables:\n",
    "\n",
    "$$\\begin{align*}\n",
    "&I \\in [{1,2,3,4,5,6,7,8,9,10}]\\\\\n",
    "&K \\in [{1,2,3,4,5,6,7}]\\\\\n",
    "&M \\in [{1,2,3,4}]\\\\\n",
    "\\end{align*}$$\n",
    "\n",
    "$X_{ki} = \\begin{cases}\n",
    "1 & \\mbox{if class $k \\in K$ is in room $i \\in I$,} \\\\\n",
    "0 & \\mbox{otherwise.}\n",
    "\\end{cases}$\n",
    "\n",
    "$Z_{kij} = \\begin{cases}\n",
    "1 & \\mbox{if class $k \\in K$ is moving from room $i \\in I$ to room $j \\in $I ,} \\\\\n",
    "0 & \\mbox{otherwise.}\n",
    "\\end{cases}$"
   ]
  },
  {
   "cell_type": "markdown",
   "metadata": {},
   "source": [
    "$$\\begin{array}{rll}\n",
    "\\text{min} & \\displaystyle 3Y_1^+ + 2Y_2^+ + 2Y_4^+\\\\\n",
    "\\text{s.t.}\\\\\n",
    "% Goal Optimization Goals\n",
    "& \\text{(1) }\\displaystyle \\sum_{i=1}^I X_{ki}R_{i} +\\sum_{i=1}^I\\sum_{j=1}^I Z_{kij}TE_{kij} - (Y_{1}^+ - Y_{1}^-) = 1100 \\quad \\forall k\\in K\\\\\n",
    "& \\text{(2) }\\displaystyle \\sum_{i=1}^I X_{ki}R_{i} - (Y_{2}^+ - Y_{2}^-) = 19 \\quad \\forall k\\in K\\\\\n",
    "& \\text{(3) }\\displaystyle \\sum_{i=1}^I\\sum_{j=1}^I X_{ki}Z_{kij}T_{kij} - (Y_{3}^+ - Y_{3}^-) = 55 \\quad \\forall k\\in K\\\\\n",
    "& \\text{(4) }\\displaystyle \\sum_{i=1}^I\\sum_{j=1}^I X_{ki}Z_{kij}E_{kij} - (Y_{4}^+ - Y_{4}^-) = 19 \\quad \\forall k\\in K\\\\\n",
    "% Constraints\n",
    "& \\text{(5) }\\displaystyle \\sum_{i=1}^I\\sum_{j=1}^I Z_{kij} \\geq 5 \\quad \\forall k\\in K\\\\\n",
    "& \\text{(6) }\\displaystyle \\sum_{i=9}^I X_{ki} \\leq 2 \\quad \\forall k\\in K\\\\\n",
    "& \\text{(7) }\\displaystyle \\sum_{i=1}^I X_{ki} = 1 \\quad \\forall k\\in K\\\\\n",
    "& \\text{(8) }\\displaystyle X_{k8} = 1 \\quad \\forall k\\in K\\\\\n",
    "\\end{array}$$\n",
    "\n",
    "$$\\begin{align*}\n",
    "&T_{kij} \\geq 0 \\text{ and integer where } k \\in K, i \\in I, j \\in I, \\text{and } i \\neq j \\\\\n",
    "&E_{kij} \\geq 0 \\text{ and integer where } k \\in K, i \\in I, j \\in I,\\text{and } i \\neq j \\\\\n",
    "&TE_{kij} \\geq 0 \\text{ and integer where } k \\in K, i \\in I, j \\in I, \\text{and } i \\neq j \\\\\n",
    "&R_{i} \\geq 0 \\text{ and integer where } k \\in K, i \\in I \\\\\n",
    "&X_{ki} \\in [{0,1}] \\text{ where } k \\in K, i \\in I \\\\\n",
    "&Z_{kij} \\in [{0,1}] \\text{ and integer where } k \\in K, i \\in I, j \\in I, \\text{and } i \\neq j \\\\\n",
    "&Y_{m}^+,Y_{m}^- \\geq 0 \\text{ where } m \\in M, \\text{and } Y_{m}^+ \\text{ is a surplus variable and } Y_{m}^- \\text{is a slack variable }\\\\\n",
    "\\end{align*}$$"
   ]
  },
  {
   "cell_type": "markdown",
   "metadata": {},
   "source": [
    "#### Step 1: Import gurobipy module"
   ]
  },
  {
   "cell_type": "code",
   "execution_count": 7,
   "metadata": {},
   "outputs": [],
   "source": [
    "import gurobipy as gp\n",
    "from gurobipy import GRB\n",
    "import pandas as pd"
   ]
  },
  {
   "cell_type": "markdown",
   "metadata": {},
   "source": [
    "#### Step 1.1 Reading from a file"
   ]
  },
  {
   "cell_type": "code",
   "execution_count": 8,
   "metadata": {},
   "outputs": [
    {
     "name": "stdout",
     "output_type": "stream",
     "text": [
      "           Average Transition Time Matrix  Transition Risk Exposure Score  \\\n",
      "1      [0, 5, 6, 7, 8, 9, 10, 11, 12, 13]  [0, 4, 4, 4, 3, 3, 3, 2, 2, 3]   \n",
      "2       [5, 0, 5, 6, 7, 8, 9, 10, 11, 12]  [4, 0, 4, 4, 3, 3, 3, 2, 2, 3]   \n",
      "3        [6, 5, 0, 5, 6, 7, 8, 9, 10, 11]  [4, 4, 0, 4, 3, 3, 3, 2, 2, 3]   \n",
      "4         [7, 6, 5, 0, 5, 6, 7, 8, 9, 10]  [4, 4, 4, 0, 3, 3, 3, 2, 2, 3]   \n",
      "5          [8, 7, 6, 5, 0, 5, 6, 7, 8, 9]  [3, 3, 3, 3, 0, 4, 4, 2, 2, 1]   \n",
      "6          [9, 8, 7, 6, 5, 0, 5, 6, 7, 8]  [3, 3, 3, 3, 4, 0, 4, 2, 2, 1]   \n",
      "7         [10, 9, 8, 7, 6, 5, 0, 5, 6, 7]  [3, 3, 3, 3, 4, 4, 0, 2, 2, 1]   \n",
      "8        [11, 10, 9, 8, 7, 6, 5, 0, 5, 6]  [2, 2, 2, 2, 2, 2, 2, 0, 2, 2]   \n",
      "9       [12, 11, 10, 9, 8, 7, 6, 5, 0, 5]  [2, 2, 2, 2, 2, 2, 2, 2, 0, 2]   \n",
      "10     [13, 12, 11, 10, 9, 8, 7, 6, 5, 0]  [3, 3, 3, 1, 1, 1, 1, 2, 2, 0]   \n",
      "Score                                 NaN                             NaN   \n",
      "\n",
      "             Room Risk Exposure Score  \n",
      "1                                 NaN  \n",
      "2                                 NaN  \n",
      "3                                 NaN  \n",
      "4                                 NaN  \n",
      "5                                 NaN  \n",
      "6                                 NaN  \n",
      "7                                 NaN  \n",
      "8                                 NaN  \n",
      "9                                 NaN  \n",
      "10                                NaN  \n",
      "Score  [3, 3, 3, 3, 3, 3, 3, 2, 2, 2]  \n"
     ]
    }
   ],
   "source": [
    "MainFile = pd.read_json(\"Testing.txt\",orient='columns')\n",
    "MainFile\n",
    "\n",
    "dataframe = pd.DataFrame(MainFile)\n",
    "print(dataframe)\n",
    " \n",
    "# print(dataframe['Average Transition Time Matrix']) \n",
    "# print(dataframe['Transition Risk Exposure Score']) \n",
    "# print(dataframe['Room Risk Exposure Score']) \n",
    "\n",
    "# dataframe['Average Transition Time Matrix'][0][0] # grabbing values from matrix ['Average Transition Time Matrix'][i][j] at (row=i,column=j) where i={0-9} and j={0-9}\n",
    "# dataframe['Transition Risk Exposure Score'][0][0] # grabbing values from matrix ['Transition Risk Exposure Score'][i][j] at (row=i,column=j) where i={0-9} and j={0-9}\n",
    "# dataframe['Room Risk Exposure Score']['Score'][0] # grabbing values from matrix ['Room Risk Exposure Score']['Score'][i] where i={0-9}\n"
   ]
  },
  {
   "cell_type": "markdown",
   "metadata": {},
   "source": [
    "#### Step 2: Define the model"
   ]
  },
  {
   "cell_type": "code",
   "execution_count": 9,
   "metadata": {},
   "outputs": [],
   "source": [
    "m = gp.Model()"
   ]
  },
  {
   "cell_type": "markdown",
   "metadata": {},
   "source": [
    "#### Step 3: Define your sets"
   ]
  },
  {
   "cell_type": "code",
   "execution_count": 10,
   "metadata": {},
   "outputs": [],
   "source": [
    "# number of rooms in the system\n",
    "I = 10\n",
    "# number of classes in the system\n",
    "K = 7\n",
    "# number of goals we have for the system\n",
    "M = 4"
   ]
  },
  {
   "cell_type": "markdown",
   "metadata": {},
   "source": [
    "#### Step 4: Define the parameters"
   ]
  },
  {
   "cell_type": "code",
   "execution_count": 11,
   "metadata": {},
   "outputs": [],
   "source": [
    "# dataframe['Average Transition Time Matrix'][0][0] # grabbing values from matrix ['Average Transition Time Matrix'][i][j] at (row=i,column=j) where i={0-9} and j={0-9}\n",
    "# dataframe['Transition Risk Exposure Score'][0][0] # grabbing values from matrix ['Transition Risk Exposure Score'][i][j] at (row=i,column=j) where i={0-9} and j={0-9}\n",
    "# dataframe['Room Risk Exposure Score']['Score'][0] # grabbing values from matrix ['Room Risk Exposure Score']['Score'][i] where i={0-9}\n",
    "\n",
    "mPlus = [3,2,2,2]\n",
    "mMinus = [0,0,0,0]"
   ]
  },
  {
   "cell_type": "markdown",
   "metadata": {},
   "source": [
    "#### Step 5: Define the decision variables"
   ]
  },
  {
   "cell_type": "code",
   "execution_count": 12,
   "metadata": {},
   "outputs": [],
   "source": [
    "x = {}\n",
    "for k in range(K):\n",
    "    for i in range(I):\n",
    "        x[k,i] = m.addVar(vtype=GRB.BINARY, name=\"x_\"+str(k)+str(i))\n",
    "z = {}\n",
    "for i in range(I):\n",
    "    for j in range(I):\n",
    "        z[k,i,j] = m.addVar(vtype=GRB.BINARY, name=\"z_\"+str(k)+str(i)+str(j))\n",
    "    \n",
    "yPlus = {}\n",
    "yMinus = {}\n",
    "for i in range(M):\n",
    "    yPlus[i] = m.addVar(vtype=GRB.CONTINUOUS, lb=0.0, obj=mPlus[i] , name=\"y+_\"+str(i))\n",
    "    yMinus[i]= m.addVar(vtype=GRB.CONTINUOUS, lb=0.0, obj=mMinus[i] , name=\"y-_\"+str(i))\n"
   ]
  },
  {
   "cell_type": "markdown",
   "metadata": {},
   "source": [
    "#### Step 6: Set the objective function\n"
   ]
  },
  {
   "cell_type": "code",
   "execution_count": 13,
   "metadata": {},
   "outputs": [],
   "source": [
    "m.modelSense = GRB.MINIMIZE"
   ]
  },
  {
   "cell_type": "markdown",
   "metadata": {},
   "source": [
    "#### Step 6: Add the constraints"
   ]
  },
  {
   "cell_type": "code",
   "execution_count": 24,
   "metadata": {},
   "outputs": [
    {
     "ename": "TypeError",
     "evalue": "unsupported operand type(s) for +: 'generator' and 'generator'",
     "output_type": "error",
     "traceback": [
      "\u001b[1;31m---------------------------------------------------------------------------\u001b[0m",
      "\u001b[1;31mTypeError\u001b[0m                                 Traceback (most recent call last)",
      "\u001b[1;32m<ipython-input-24-de7a476abbb0>\u001b[0m in \u001b[0;36m<module>\u001b[1;34m\u001b[0m\n\u001b[0;32m      1\u001b[0m \u001b[1;31m# Constraint (1)\u001b[0m\u001b[1;33m\u001b[0m\u001b[1;33m\u001b[0m\u001b[1;33m\u001b[0m\u001b[0m\n\u001b[1;32m----> 2\u001b[1;33m m.addConstrs(((sum(x[k,i]*dataframe['Room Risk Exposure Score']['Score'][i]) for i in range(I)) + \\\n\u001b[0m\u001b[0;32m      3\u001b[0m               \u001b[1;33m(\u001b[0m\u001b[0msum\u001b[0m\u001b[1;33m(\u001b[0m\u001b[0msum\u001b[0m\u001b[1;33m(\u001b[0m\u001b[0mz\u001b[0m\u001b[1;33m[\u001b[0m\u001b[0mk\u001b[0m\u001b[1;33m,\u001b[0m\u001b[0mi\u001b[0m\u001b[1;33m,\u001b[0m\u001b[0mj\u001b[0m\u001b[1;33m]\u001b[0m\u001b[1;33m*\u001b[0m\u001b[0mdataframe\u001b[0m\u001b[1;33m[\u001b[0m\u001b[1;34m'Average Transition Time Matrix'\u001b[0m\u001b[1;33m]\u001b[0m\u001b[1;33m[\u001b[0m\u001b[0mi\u001b[0m\u001b[1;33m]\u001b[0m\u001b[1;33m[\u001b[0m\u001b[0mj\u001b[0m\u001b[1;33m]\u001b[0m\u001b[1;33m*\u001b[0m\u001b[0mdataframe\u001b[0m\u001b[1;33m[\u001b[0m\u001b[1;34m'Transition Risk Exposure Score'\u001b[0m\u001b[1;33m]\u001b[0m\u001b[1;33m[\u001b[0m\u001b[0mi\u001b[0m\u001b[1;33m]\u001b[0m\u001b[1;33m[\u001b[0m\u001b[0mj\u001b[0m\u001b[1;33m]\u001b[0m\u001b[1;33m)\u001b[0m \u001b[1;32mfor\u001b[0m \u001b[0mj\u001b[0m \u001b[1;32min\u001b[0m \u001b[0mrange\u001b[0m\u001b[1;33m(\u001b[0m\u001b[0mI\u001b[0m\u001b[1;33m)\u001b[0m\u001b[1;33m)\u001b[0m \u001b[1;32mfor\u001b[0m \u001b[0mi\u001b[0m \u001b[1;32min\u001b[0m \u001b[0mrange\u001b[0m\u001b[1;33m(\u001b[0m\u001b[0mI\u001b[0m\u001b[1;33m)\u001b[0m\u001b[1;33m)\u001b[0m \u001b[1;33m+\u001b[0m\u001b[0;31m \u001b[0m\u001b[0;31m\\\u001b[0m\u001b[1;33m\u001b[0m\u001b[1;33m\u001b[0m\u001b[0m\n\u001b[0;32m      4\u001b[0m               (yPlus[0]-yMinus[0]) == 1100) for k in range(K))\n\u001b[0;32m      5\u001b[0m \u001b[1;33m\u001b[0m\u001b[0m\n",
      "\u001b[1;32mmodel.pxi\u001b[0m in \u001b[0;36mgurobipy.Model.addConstrs\u001b[1;34m()\u001b[0m\n",
      "\u001b[1;32m<ipython-input-24-de7a476abbb0>\u001b[0m in \u001b[0;36m<genexpr>\u001b[1;34m(.0)\u001b[0m\n\u001b[0;32m      1\u001b[0m \u001b[1;31m# Constraint (1)\u001b[0m\u001b[1;33m\u001b[0m\u001b[1;33m\u001b[0m\u001b[1;33m\u001b[0m\u001b[0m\n\u001b[1;32m----> 2\u001b[1;33m m.addConstrs(((sum(x[k,i]*dataframe['Room Risk Exposure Score']['Score'][i]) for i in range(I)) + \\\n\u001b[0m\u001b[0;32m      3\u001b[0m               \u001b[1;33m(\u001b[0m\u001b[0msum\u001b[0m\u001b[1;33m(\u001b[0m\u001b[0msum\u001b[0m\u001b[1;33m(\u001b[0m\u001b[0mz\u001b[0m\u001b[1;33m[\u001b[0m\u001b[0mk\u001b[0m\u001b[1;33m,\u001b[0m\u001b[0mi\u001b[0m\u001b[1;33m,\u001b[0m\u001b[0mj\u001b[0m\u001b[1;33m]\u001b[0m\u001b[1;33m*\u001b[0m\u001b[0mdataframe\u001b[0m\u001b[1;33m[\u001b[0m\u001b[1;34m'Average Transition Time Matrix'\u001b[0m\u001b[1;33m]\u001b[0m\u001b[1;33m[\u001b[0m\u001b[0mi\u001b[0m\u001b[1;33m]\u001b[0m\u001b[1;33m[\u001b[0m\u001b[0mj\u001b[0m\u001b[1;33m]\u001b[0m\u001b[1;33m*\u001b[0m\u001b[0mdataframe\u001b[0m\u001b[1;33m[\u001b[0m\u001b[1;34m'Transition Risk Exposure Score'\u001b[0m\u001b[1;33m]\u001b[0m\u001b[1;33m[\u001b[0m\u001b[0mi\u001b[0m\u001b[1;33m]\u001b[0m\u001b[1;33m[\u001b[0m\u001b[0mj\u001b[0m\u001b[1;33m]\u001b[0m\u001b[1;33m)\u001b[0m \u001b[1;32mfor\u001b[0m \u001b[0mj\u001b[0m \u001b[1;32min\u001b[0m \u001b[0mrange\u001b[0m\u001b[1;33m(\u001b[0m\u001b[0mI\u001b[0m\u001b[1;33m)\u001b[0m\u001b[1;33m)\u001b[0m \u001b[1;32mfor\u001b[0m \u001b[0mi\u001b[0m \u001b[1;32min\u001b[0m \u001b[0mrange\u001b[0m\u001b[1;33m(\u001b[0m\u001b[0mI\u001b[0m\u001b[1;33m)\u001b[0m\u001b[1;33m)\u001b[0m \u001b[1;33m+\u001b[0m\u001b[0;31m \u001b[0m\u001b[0;31m\\\u001b[0m\u001b[1;33m\u001b[0m\u001b[1;33m\u001b[0m\u001b[0m\n\u001b[0;32m      4\u001b[0m               (yPlus[0]-yMinus[0]) == 1100) for k in range(K))\n\u001b[0;32m      5\u001b[0m \u001b[1;33m\u001b[0m\u001b[0m\n",
      "\u001b[1;31mTypeError\u001b[0m: unsupported operand type(s) for +: 'generator' and 'generator'"
     ]
    }
   ],
   "source": [
    "# Constraint (1)\n",
    "m.addConstrs(((sum(x[k,i]*dataframe['Room Risk Exposure Score']['Score'][i]) for i in range(I)) + \\\n",
    "              (sum(sum(z[k,i,j]*dataframe['Average Transition Time Matrix'][i][j]*dataframe['Transition Risk Exposure Score'][i][j]) for j in range(I)) for i in range(I)) + \\\n",
    "              (yPlus[0]-yMinus[0]) == 1100) for k in range(K))\n",
    "\n",
    "# Constraint (2)\n",
    "m.addConstrs(((sum(x[k,i]*dataframe['Room Risk Exposure Score']['Score'][i])) for i in range(I) + \\\n",
    "              (yPlus[1]-yMinus[1]) == 19) for k in range(K))\n",
    "\n",
    "# Constraint (3)\n",
    "m.addConstrs(((sum(sum(x[k,i]*z[k,i,j]*dataframe['Average Transition Time Matrix'][i][j]) for j in range(I)) for i in range(I)) + \\\n",
    "              (yPlus[2]-yMinus[2]) == 55) for k in range(K)) \n",
    "\n",
    "# Constraint (4)\n",
    "m.addConstrs(((sum(sum(x[k,i]*z[k,i,j]*dataframe['Transition Risk Exposure Score'][i][j]) for j in range(I)) for i in range(I)) + \\\n",
    "              (yPlus[3]-yMinus[3]) == 19) for k in range(K))\n",
    "\n",
    "# Constraint (5)\n",
    "m.addConstrs(((sum(sum(z[k,i,j]) for j in range(I)) for i in range(I)) >= 5) for k in range(K)) \n",
    "\n",
    "# Constraint (6)\n",
    "m.addConstrs(((sum(x[k,i]) for i in range(I)) <= 2) for k in range(K))\n",
    "\n",
    "# Constraint (7)\n",
    "m.addConstrs(((sum(x[k,i]) for i in range(I)) == 1) for k in range(K))\n",
    "\n",
    "# Constraint (8)\n",
    "m.addConstrs((sum(x[k,7]) == 1) for k in range(K))\n",
    "\n",
    "# Update Model\n",
    "m.update()"
   ]
  },
  {
   "cell_type": "markdown",
   "metadata": {},
   "source": [
    "#### Step 7: Solve the model"
   ]
  },
  {
   "cell_type": "code",
   "execution_count": null,
   "metadata": {},
   "outputs": [],
   "source": [
    "#m.Params.TimeLimit=300 #(seconds) optional: sets a time limit for optimization only if you need to prematurely stop the solution procedure\n",
    "m.optimize()"
   ]
  },
  {
   "cell_type": "markdown",
   "metadata": {},
   "source": [
    "#### Step 8: Print variable values  (The Messy Way)"
   ]
  },
  {
   "cell_type": "code",
   "execution_count": null,
   "metadata": {},
   "outputs": [],
   "source": [
    "for myVars in m.getVars():\n",
    "    print('%s %g' % (myVars.varName, myVars.x))\n",
    "print('\\n')\n",
    "for myVars in m.getVars():\n",
    "    print('%s %g' % (myVars.varName, myVars.z)) \n",
    "print('\\n')\n",
    "for myVars in m.getVars():\n",
    "    print('%s %g' % (myVars.varName, myVars.y))\n",
    "    "
   ]
  },
  {
   "cell_type": "markdown",
   "metadata": {},
   "source": [
    "#### Step 8 Alternate: Print the solution (The Easy To Read Way)"
   ]
  },
  {
   "cell_type": "code",
   "execution_count": null,
   "metadata": {},
   "outputs": [],
   "source": []
  },
  {
   "cell_type": "markdown",
   "metadata": {},
   "source": [
    "#### Optional Step: Exporting the LP File for Debugging\n",
    "Export it to an LP file and check if it is in the desired shape."
   ]
  },
  {
   "cell_type": "code",
   "execution_count": null,
   "metadata": {},
   "outputs": [],
   "source": [
    "m.write(\"checkModel.lp\")"
   ]
  },
  {
   "cell_type": "code",
   "execution_count": null,
   "metadata": {},
   "outputs": [],
   "source": []
  }
 ],
 "metadata": {
  "kernelspec": {
   "display_name": "Python 3",
   "language": "python",
   "name": "python3"
  },
  "language_info": {
   "codemirror_mode": {
    "name": "ipython",
    "version": 3
   },
   "file_extension": ".py",
   "mimetype": "text/x-python",
   "name": "python",
   "nbconvert_exporter": "python",
   "pygments_lexer": "ipython3",
   "version": "3.8.3"
  }
 },
 "nbformat": 4,
 "nbformat_minor": 4
}
