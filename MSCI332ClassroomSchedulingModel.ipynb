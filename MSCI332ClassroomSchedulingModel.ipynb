{
 "cells": [
  {
   "cell_type": "markdown",
   "metadata": {},
   "source": [
    "## Group 22 Application #3: Scheduling With Distancing\n"
   ]
  },
  {
   "cell_type": "markdown",
   "metadata": {},
   "source": [
    "#### Step 0: The model\n",
    "\n",
    "#### Problem Statement:\n",
    "As a result of the pandemic, many essential services including schools have been affected. With the uncertainty of the virus, many parents are worried about the safety of their children returning to in-person classes. Because of this, the school board has designed a new back-to-school plan that includes new safety measures and rules for allowing in-person classes.  <br>\n",
    "\n",
    "#### Restricted Application Scenario (Assumptions):\n",
    "- 7 class k's within the school (only 7 classes in the entire school that can use 10 rooms)\n",
    "- All classes will be in-person, 5 days a week (Mon-Fri) <br>\n",
    "- Only considering students and teachers <br>\n",
    "- School environment (total of 10 rooms) <br>\n",
    " - 7 classrooms (rooms 1-7)<br>\n",
    " - 1 cafeteria (room 8)<br>\n",
    " - 1 gym (room 9)<br>\n",
    " - 1 library room(10)<br>\n",
    " - Classrooms are disinfected after the end of every school day <br>\n",
    "- Masks must be worn by every student/teacher <br>\n",
    "\n",
    "### The school layout \n",
    "<img src= \"img/School_Layout.jpg\" style=\"width:700px;\"/>\n",
    "\n",
    "#### Constraints (Implemented by the School Board):\n",
    "- Each class must visit the cafeteria once a day (= 1)  <br>\n",
    "- Each class must visit either gym or library or both or none once a day (<= 1)  <br>\n",
    "- Each class must transition at least 5 times a day (>=5)  <br>\n",
    "- Each room can only hold 1 class at a time (= 1) <br>\n",
    "\n",
    "#### Goals (Requested by the School Board):\n",
    "- Daily exposure score (Daily sum of Room Risk Exposure score per class + Daily sum product of Average Transition Time*Transition Risk Exposure score) per class should be less than 1100 <br>\n",
    "- Daily summation of room risk exposure score per class should be less than 15 <br>\n",
    "- Daily summation of average transition time per class should be less than 15 <br>\n",
    "- Daily sum of transition risk exposure score per class should be less than 12 <br>\n",
    "\n",
    "#### Penalty Weightings (Created by the School Board): <br>\n",
    "Weighting of 3:<br>\n",
    "- Going over the daily class exposure score per 1 point over <br>\n",
    "\n",
    "Weighting of 2:<br>\n",
    "- Going over the daily class k room risk exposure score per 1 point over <br>\n",
    "- Going over the daily class k average transition time per 1 minute over <br>\n",
    "- Going over the daily class k transition risk exposure score per 1 point over <br>\n",
    "\n",
    "#### Sets:\n",
    "\n",
    "Let K = [1,7] be the number of classes <br>\n",
    "Let J = [1,10] be the number of rooms in the school where classrooms are 1-7, cafeteria = 8, gym = 9 and library = 10 <br>\n",
    "Let M = [1,4] be the subscript values for the slack/surplus variables <br>\n",
    "\n",
    "#### Parameters: <br>\n",
    "\n",
    "$ T_{ij} $ = Average Transition Time Matrix for moving from room i to room j, where $\\forall i\\in J$ , $\\forall j\\in J$ and $i \\ne j$  <br> \n",
    "$ E_{ij} $ = Transition Risk Exposure score for moving from room i to room j, where $\\forall i\\in J$ , $\\forall j\\in J$ and $i \\ne j$  <br> \n",
    "$ R_{i} $ = Room Risk Exposure score of room, where $\\forall i\\in J$ <br>\n",
    "\n",
    "\n",
    "#### Slack and Surplus Variables <br>\n",
    "\n",
    "$ Y^{+}_{m} $ is a surplus variable and $ Y^{-}_{m} $ is a slack variable where $\\forall m \\in M$ <br> \n",
    "$ Y^{+}_{1} $ is a surplus variable and $ Y^{-}_{1} $ is a slack variable for daily class exposure score <br>\n",
    "$ Y^{+}_{2} $ is a surplus variable and $ Y^{-}_{2} $ is a slack variable for room risk exposure score <br>\n",
    "$ Y^{+}_{3} $ is a surplus variable and $ Y^{-}_{3} $ is a slack variable for average transition time <br>\n",
    "$ Y^{+}_{4} $ is a surplus variable and $ Y^{-}_{4} $ is a slack variable for transition risk exposure score <br>\n",
    "\n",
    "#### Decision Variables: <br>\n",
    "\n",
    "$X_{ki} = \\begin{cases}\n",
    "1 & \\mbox{if class k is in room i, where $k \\in K$ and $i \\in J$} \\\\\n",
    "0 & \\mbox{otherwise}\n",
    "\\end{cases}$ <br>\n",
    "\n",
    "$Z_{kij} = \\begin{cases}\n",
    "1 & \\mbox{if class k moving from room i to room j, where $k \\in K$, $i \\in J$, $j \\in J$ and $i \\ne j$} \\\\\n",
    "0 & \\mbox{otherwise}\n",
    "\\end{cases}$ <br>\n",
    "\n",
    "$RT_{kij} = \\begin{cases}\n",
    "1 & \\mbox{if class k is in room i and class k moving from room i to room j, where $i \\in J$} \\\\\n",
    "0 & \\mbox{otherwise}\n",
    "\\end{cases}$ <br>\n",
    "\n",
    "#### Objective Function: <br>\n",
    "\n",
    "$$\\begin{array}{rll}\n",
    "\\text{min} & 3  Y^{+}_{1} + 2 Y^{+}_{2} + 2 Y^{+}_{3} + 2 Y^{+}_{4} \\\\\n",
    "\\text{s.t.} \n",
    "& \\text{(1) }\\displaystyle \\sum_{i=1}^J X_{ki} R_i + \\sum_{i=1}^J \\sum_{j=1}^J Z_{kij} T_{ij}E_{ij} - (Y^{+}_{1} - Y^{-}_{1}) = 1100, \\forall k \\in K, i \\ne j \\text{ daily class exposure score goal} \\\\\n",
    "& \\text{(2) }\\displaystyle \\sum_{i=1}^J X_{ki} R_i - (Y^{+}_{2} - Y^{-}_{2}) = 15, \\forall k \\in K \\text{ daily class k room cost goal}\\\\\n",
    "& \\text{(3) }\\displaystyle \\sum_{i=1}^J \\sum_{j=1}^J RT_{kij}T_{ij} - (Y^{+}_{3} - Y^{-}_{3}) = 15, \\forall k \\in K, i \\ne j \\text{ daily class k transition times goal}\\\\\n",
    "& \\text{(4) }\\displaystyle \\sum_{i=1}^J \\sum_{j=1}^J RT_{kij}E_{ij} - (Y^{+}_{4} - Y^{-}_{4}) = 12, \\forall k \\in K, i \\ne j \\text{ daily class k transition exposure risk score goal}\\\\\n",
    "& \\text{(5) }\\displaystyle \\sum_{i=1}^J X_{ki} \\geq 6, \\forall k \\in K, i \\ne j,  \\text { class k goes to 6 rooms a day, they've transitioned 5 times } \\\\\n",
    "& \\text{(6) }\\displaystyle \\sum_{i=9}^J X_{ki} \\leq 2, \\forall k \\in K, \\text { each class k may visit the gym or library or both or none in a day } \\\\\n",
    "& \\text{(7) }\\displaystyle X_{k8} = 1, \\forall k \\in K, \\text {each class k must eat once in the cafeteria} \\\\\n",
    "& \\text{(8) }\\displaystyle X_{ki}+Z_{kij}- 1 \\leq RT_{kij}, \\forall k \\in K, \\forall i\\in J , \\forall j\\in J,i \\ne j, \\text {linearize quadratic constraints} \\\\\n",
    "& \\text{(9) }\\displaystyle \\sum_{i=1}^J \\sum_{k=1}^K Z_{kij} = 1, \\forall j\\in J,i \\ne j \\text{ a room can only hold one class at once}\\\\\n",
    "& \\displaystyle T_{ij} \\geq 0, \\text {and integer where, }  \\forall i\\in J , \\forall j\\in J,i \\ne j \\\\\n",
    "& \\displaystyle E_{ij} \\geq 0, \\text {and integer where, } \\forall i\\in J , \\forall j\\in J,i \\ne j \\\\\n",
    "& \\displaystyle R_{i} \\geq 0, \\text {and integer where, } \\forall i\\in J \\\\\n",
    "& \\displaystyle X_{ki} \\in \\lbrace0,1\\rbrace \\quad \\forall k \\in K, \\forall i\\in J \\\\\n",
    "& \\displaystyle Z_{kij} \\in \\lbrace0,1\\rbrace \\quad \\forall k \\in K, \\forall i\\in J \\forall j\\in J,i \\ne j \\\\\n",
    "& \\displaystyle RT_{kij} \\in \\lbrace0,1\\rbrace \\quad \\forall i\\in J \\\\\n",
    "& \\displaystyle Y^{+}_{m}, Y^{-}_{m} \\geq 0,  \\forall m \\in M,\\text { where } Y^{+}_{m} \\text {is a surplus variable and }Y^{-}_{m} \\text { is a slack variable} \\\\ \n",
    "& \\displaystyle K = [1,7] \\text { be the number of classes} \\\\\n",
    "& \\displaystyle J = [1,10] \\text { be the number of rooms in the school where classrooms are 1-7, cafeteria = 8, gym = 9 and library = 10} \\\\ \n",
    "& \\displaystyle M = [1,4] \\text { be the subscript values for the slack/surplus variables} \\\\ \n",
    "\\end{array}$$ <br>\n",
    "\n"
   ]
  },
  {
   "cell_type": "markdown",
   "metadata": {},
   "source": [
    "#### Step 1: Import gurobipy module"
   ]
  },
  {
   "cell_type": "code",
   "execution_count": null,
   "metadata": {},
   "outputs": [],
   "source": [
    "import pandas as pd #reading file\n",
    "import gurobipy as gp\n",
    "from gurobipy import GRB\n",
    "import random as rd\n",
    "import csv\n",
    "from datetime import datetime"
   ]
  },
  {
   "cell_type": "markdown",
   "metadata": {},
   "source": [
    "#### Step 1.1 Reading from a file"
   ]
  },
  {
   "cell_type": "code",
   "execution_count": null,
   "metadata": {},
   "outputs": [],
   "source": [
    "MainFile = pd.read_json(\"Data.txt\",orient='columns')\n",
    "MainFile\n",
    "\n",
    "dataframe = pd.DataFrame(MainFile)\n",
    "# print(dataframe)\n",
    " \n",
    "# print(dataframe['Average Transition Time Matrix']) \n",
    "# print(dataframe['Transition Risk Exposure Score']) \n",
    "# print(dataframe['Room Risk Exposure Score']) \n",
    "\n",
    "# dataframe['Average Transition Time Matrix'][0][0] # grabbing values from matrix ['Average Transition Time Matrix'][i][j] at (row=i,column=j) where i={0-9} and j={0-9}\n",
    "# dataframe['Transition Risk Exposure Score'][9] # grabbing values from matrix ['Transition Risk Exposure Score'][i][j] at (row=i,column=j) where i={0-9} and j={0-9}\n",
    "# dataframe['Room Risk Exposure Score']['Score'][9] # grabbing values from matrix ['Room Risk Exposure Score']['Score'][i] where i={0-9}\n"
   ]
  },
  {
   "cell_type": "markdown",
   "metadata": {},
   "source": [
    "#### Step 2: Define the model"
   ]
  },
  {
   "cell_type": "code",
   "execution_count": null,
   "metadata": {},
   "outputs": [],
   "source": [
    "m = gp.Model('Classroom Scheduling Model')"
   ]
  },
  {
   "cell_type": "markdown",
   "metadata": {},
   "source": [
    "#### Step 3: Define your sets"
   ]
  },
  {
   "cell_type": "code",
   "execution_count": null,
   "metadata": {},
   "outputs": [],
   "source": [
    "# Number of classes in the school\n",
    "K = 7\n",
    "\n",
    "# Number of rooms in the school where classrooms are 1-7, cafeteria = 8, gym = 9 and library = 10\n",
    "J = 10\n",
    "\n",
    "# Subscript values for slack/surplus variables\n",
    "M = 4"
   ]
  },
  {
   "cell_type": "markdown",
   "metadata": {},
   "source": [
    "#### Step 4: Define the parameters"
   ]
  },
  {
   "cell_type": "code",
   "execution_count": null,
   "metadata": {},
   "outputs": [],
   "source": [
    "# Objective function constants for Slack/Surplus Variables\n",
    "mPlus = []\n",
    "mPlus = [3,2,2,2]\n",
    "# mMinus = []\n",
    "mMinus = [0,0,0,0]\n",
    "\n",
    "# for i in range(4):\n",
    "#     a = rd.randint(1, 5)\n",
    "#     mPlus.append(a)\n",
    "# print(mPlus)"
   ]
  },
  {
   "cell_type": "markdown",
   "metadata": {},
   "source": [
    "#### Step 5: Define the decision variables"
   ]
  },
  {
   "cell_type": "code",
   "execution_count": null,
   "metadata": {},
   "outputs": [],
   "source": [
    "x = {}\n",
    "for k in range(K):\n",
    "    for i in range(J):\n",
    "        x[k,i] = m.addVar(vtype=GRB.BINARY, name=\"x_\"+str(k)+str(i))\n",
    "\n",
    "RT = {}\n",
    "for k in range(K):\n",
    "    for i in range(J):\n",
    "        for j in range(J):\n",
    "            RT[k,i,j] = m.addVar(vtype=GRB.BINARY, name=\"r_\"+str(k)+str(i)+str(j))        \n",
    "\n",
    "z = {}\n",
    "for k in range(K):\n",
    "    for i in range(J):\n",
    "        for j in range(J):\n",
    "            z[k,i,j] = m.addVar(vtype=GRB.BINARY, name=\"z_\"+str(k)+str(i)+str(j))\n",
    "            \n",
    "yPlus = {}\n",
    "for i in range(M):\n",
    "    yPlus[i] = m.addVar(vtype=GRB.CONTINUOUS, lb=0.0, obj=mPlus[i] , name=\"y+_\"+str(i))\n",
    "        \n",
    "yMinus = {}\n",
    "for i in range(M):\n",
    "    yMinus[i]= m.addVar(vtype=GRB.CONTINUOUS, lb=0.0, obj=mMinus[i] , name=\"y-_\"+str(i)) # variables have objective function constants automatically here"
   ]
  },
  {
   "cell_type": "markdown",
   "metadata": {},
   "source": [
    "#### Step 6: Set the objective function\n"
   ]
  },
  {
   "cell_type": "code",
   "execution_count": null,
   "metadata": {},
   "outputs": [],
   "source": [
    "# sets the objective function given the defined decision variables\n",
    "m.ModelSense = GRB.MINIMIZE\n",
    "\n",
    "# m.setObjective((sum(mPlus[i]*yPlus[i] for i in range(4))),GRB.MINIMIZE)"
   ]
  },
  {
   "cell_type": "markdown",
   "metadata": {},
   "source": [
    "#### Step 7: Add the constraints"
   ]
  },
  {
   "cell_type": "code",
   "execution_count": null,
   "metadata": {},
   "outputs": [],
   "source": [
    "# Goal/Constraint (1)\n",
    "m.addConstrs( ( sum(x[k,i]*dataframe['Room Risk Exposure Score']['Score'][i] for i in range(J) ) + \n",
    "             (sum(  sum(z[k,i,j]*dataframe['Average Transition Time Matrix'][i][j]*dataframe['Transition Risk Exposure Score'][i][j]\n",
    "                for j in range(J) if i != j) for i in range(J) if i != j) )\n",
    "               - (yPlus[0]-yMinus[0])  == 100 ) for k in range(K) )\n",
    "\n",
    "# Goal/Constraint (2)\n",
    "m.addConstrs( ( sum(x[k,i]*dataframe['Room Risk Exposure Score']['Score'][i] for i in range(J) ) -\n",
    "              (yPlus[1]-yMinus[1]) == 15) for k in range(K) )\n",
    "\n",
    "# Goal/Constraint (3)\n",
    "m.addConstrs( ( sum(  sum(RT[k,i,j]*dataframe['Average Transition Time Matrix'][i][j]\n",
    "                for j in range(J) if i != j) for i in range(J) if i != j) \n",
    "               - (yPlus[2]-yMinus[2])  == 200 ) for k in range(K) )\n",
    "\n",
    "# Goal/Constraint (4)\n",
    "m.addConstrs( ( sum(  sum(RT[k,i,j]*dataframe['Transition Risk Exposure Score'][i][j]\n",
    "                for j in range(J) if i != j) for i in range(J) if i != j) \n",
    "               - (yPlus[3]-yMinus[3])  == 12 ) for k in range(K) )\n",
    "\n",
    "# Constraint (5) each class k transitions from room i  J to room j  J at least 5 times a day\n",
    "m.addConstrs( (sum(x[k,i] for i in range(J)) >= 6)  for k in range(K))\n",
    "\n",
    "# Constraint (6) each class k may visit the gym or library or both or none in a day\n",
    "m.addConstrs( ( sum(x[k,i] for i in range(8,J) ) <= 2) for k in range(K) )\n",
    "            \n",
    "#Constraint (7) each class k must eat once in the cafeteria\n",
    "m.addConstrs( ( (x[k,7]) == 1) for k in range(K) )\n",
    "\n",
    "# Constraint (8) linearized quadratic constraints using RT\n",
    "m.addConstrs( ( ((x[k,i]+z[k,i,j] -1) <= RT[k,i,j]) for i in range(J) for j in range(J) if i != j for k in range(K)) )\n",
    "\n",
    "# Constraint (9)\n",
    "m.addConstrs( (sum(sum(z[k,i,j] for k in range(K) ) for i in range(J) if i != j) == 1) for j in range(J) if i != j )\n",
    "\n",
    "# Update Modelto hold the constraints\n",
    "m.update() "
   ]
  },
  {
   "cell_type": "markdown",
   "metadata": {},
   "source": [
    "#### Step 8: Solve the model"
   ]
  },
  {
   "cell_type": "code",
   "execution_count": null,
   "metadata": {},
   "outputs": [],
   "source": [
    "# solves the model\n",
    "m.optimize() "
   ]
  },
  {
   "cell_type": "markdown",
   "metadata": {},
   "source": [
    "#### Step 9: Print variable values  (The Messy Way)"
   ]
  },
  {
   "cell_type": "code",
   "execution_count": null,
   "metadata": {
    "scrolled": true
   },
   "outputs": [],
   "source": [
    "# printing all the variables and their values\n",
    "for myVars in m.getVars():\n",
    "    print('%s %g' % (myVars.varName, myVars.x))"
   ]
  },
  {
   "cell_type": "markdown",
   "metadata": {},
   "source": [
    "#### Step 9: Alternate: Print the solution (The Easy To Read Way)"
   ]
  },
  {
   "cell_type": "code",
   "execution_count": null,
   "metadata": {},
   "outputs": [],
   "source": [
    "print('\\nGoal Deviation Score: %g' % m.objVal) #gets the objective function value\n",
    "print('SOLUTION:')\n",
    "\n",
    "for k in range(K): \n",
    "    print('\\nClass %s goes to the following rooms:'% (k+1) ) \n",
    "    Includes = []\n",
    "    Omits = []\n",
    "    for i in range (J):\n",
    "        if x[k,i].x > 0.99:  \n",
    "            Includes.append(i+1)\n",
    "#             print('%s' % (i+1) ) \n",
    "    print(Includes)\n",
    "    for i in range(1,11):\n",
    "        if(not i in Includes):\n",
    "            Omits.append(i)\n",
    "    print(\"    Omits rooms: \"+\" \".join(str(f) for f in Omits))"
   ]
  },
  {
   "cell_type": "code",
   "execution_count": 1,
   "metadata": {},
   "outputs": [
    {
     "ename": "NameError",
     "evalue": "name 'm' is not defined",
     "output_type": "error",
     "traceback": [
      "\u001b[1;31m---------------------------------------------------------------------------\u001b[0m",
      "\u001b[1;31mNameError\u001b[0m                                 Traceback (most recent call last)",
      "\u001b[1;32m<ipython-input-1-3d9874e362ac>\u001b[0m in \u001b[0;36m<module>\u001b[1;34m\u001b[0m\n\u001b[1;32m----> 1\u001b[1;33m \u001b[0mm\u001b[0m\u001b[1;33m.\u001b[0m\u001b[0mwrite\u001b[0m\u001b[1;33m(\u001b[0m\u001b[1;34m\"checkModel.lp\"\u001b[0m\u001b[1;33m)\u001b[0m\u001b[1;33m\u001b[0m\u001b[1;33m\u001b[0m\u001b[0m\n\u001b[0m\u001b[0;32m      2\u001b[0m \u001b[0mvar_names\u001b[0m \u001b[1;33m=\u001b[0m \u001b[1;33m[\u001b[0m\u001b[1;33m]\u001b[0m\u001b[1;33m\u001b[0m\u001b[1;33m\u001b[0m\u001b[0m\n\u001b[0;32m      3\u001b[0m \u001b[0mvar_values\u001b[0m \u001b[1;33m=\u001b[0m \u001b[1;33m[\u001b[0m\u001b[1;33m]\u001b[0m\u001b[1;33m\u001b[0m\u001b[1;33m\u001b[0m\u001b[0m\n\u001b[0;32m      4\u001b[0m \u001b[1;33m\u001b[0m\u001b[0m\n\u001b[0;32m      5\u001b[0m \u001b[1;32mfor\u001b[0m \u001b[0mvar\u001b[0m \u001b[1;32min\u001b[0m \u001b[0mm\u001b[0m\u001b[1;33m.\u001b[0m\u001b[0mgetVars\u001b[0m\u001b[1;33m(\u001b[0m\u001b[1;33m)\u001b[0m\u001b[1;33m:\u001b[0m\u001b[1;33m\u001b[0m\u001b[1;33m\u001b[0m\u001b[0m\n",
      "\u001b[1;31mNameError\u001b[0m: name 'm' is not defined"
     ]
    }
   ],
   "source": [
    "var_names = []\n",
    "var_values = []\n",
    "\n",
    "for var in m.getVars():\n",
    "    if var.X > 0: \n",
    "        var_names.append(str(var.varName))\n",
    "        var_values.append(var.X)\n",
    "\n",
    "# Writing to csv\n",
    "\n",
    "filename = \"TestsResults/testout_\"\n",
    "timestr = datetime.now().strftime(\"%Y_%m_%d-%I_%M_%S_%p\")\n",
    "\n",
    "m.write(\"TestsResults/CheckModel_\"+timestr+\".lp\")\n",
    "\n",
    "with open(filename+timestr+\".csv\", 'w', newline='') as myfile:\n",
    "    \n",
    "    wr = csv.writer(myfile, quoting=csv.QUOTE_ALL)\n",
    "    \n",
    "    #first row of csv\n",
    "    wr.writerow([\"Class i/Room j\"] + [i for i in range(1,11)])\n",
    "    \n",
    "    # Write each row\n",
    "    wr.writerows([k+1] + [x[k,i].X for i in range(J)] for k in range(K))"
   ]
  },
  {
   "cell_type": "code",
   "execution_count": null,
   "metadata": {},
   "outputs": [],
   "source": []
  }
 ],
 "metadata": {
  "kernelspec": {
   "display_name": "Python 3",
   "language": "python",
   "name": "python3"
  },
  "language_info": {
   "codemirror_mode": {
    "name": "ipython",
    "version": 3
   },
   "file_extension": ".py",
   "mimetype": "text/x-python",
   "name": "python",
   "nbconvert_exporter": "python",
   "pygments_lexer": "ipython3",
   "version": "3.8.3"
  }
 },
 "nbformat": 4,
 "nbformat_minor": 4
}
