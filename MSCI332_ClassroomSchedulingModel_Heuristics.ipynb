{
 "cells": [
  {
   "cell_type": "markdown",
   "metadata": {},
   "source": [
    "## Group 22 Application #3: Scheduling With Distancing\n"
   ]
  },
  {
   "cell_type": "markdown",
   "metadata": {},
   "source": [
    "### Step 0: The model\n",
    "\n",
    "#### Problem Statement:\n",
    "As a result of the pandemic, many essential services including schools have been affected. With the uncertainty of the virus, many parents are worried about the safety of their children returning to in-person classes. Because of this, the school board has designed a new back-to-school plan that includes new safety measures and rules for allowing in-person classes.  <br>\n",
    "\n",
    "#### Restricted Application Scenario (Assumptions):\n",
    "- 7 class k's within the school (only 7 classes in the entire school that can use 10 rooms)\n",
    "- All classes will be in-person, 5 days a week (Mon-Fri) <br>\n",
    "- Only considering students and teachers <br>\n",
    "- School environment (total of 10 rooms) <br>\n",
    " - 7 classrooms (rooms 1-7)<br>\n",
    " - 1 cafeteria (room 8)<br>\n",
    " - 1 gym (room 9)<br>\n",
    " - 1 library room(10)<br>\n",
    " - Classrooms are disinfected after the end of every school day <br>\n",
    "- Each class must transition 7 times a day\n",
    "- Masks must be worn by every student and teacher <br>\n",
    "\n",
    "#### The school layout \n",
    "<img src= \"img/schoolLayout.jpg\" style=\"width:700px;\"/>\n",
    "\n",
    "#### Constraints (Implemented by the School Board):\n",
    "- Each class must transition 7 times a day (= 7)  <br>\n",
    "- Each room must visit the cafeteria once a day (= 1) <br>\n",
    "- Each room can only hold 1 class at a time (= 1) <br>\n",
    "\n",
    "#### Goals (Requested by the School Board):\n",
    "- Daily exposure score (Daily sum of Room Risk Exposure score per class + Daily sum product of Average Transition Time*Transition Risk Exposure score) per class should be less than or equal to 300 <br>\n",
    "- Daily summation of room risk exposure score per class should be less than or equal to 25 <br>\n",
    "- Daily summation of average transition time per class should be less than or equal to 40 <br>\n",
    "- Daily sum of transition risk exposure score per class should be less than or equal to 25 <br>\n",
    "\n",
    "#### Penalty Weightings (Created by the School Board): <br>\n",
    "Weighting of 3:<br>\n",
    "- Going over the daily class exposure score per 1 point over <br>\n",
    "\n",
    "Weighting of 2:<br>\n",
    "- Going over the daily class k room risk exposure score per 1 point over <br>\n",
    "- Going over the daily class k average transition time per 1 minute over <br>\n",
    "- Going over the daily class k transition risk exposure score per 1 point over <br>\n",
    "\n",
    "#### Sets:\n",
    "\n",
    "Let K = [1,7] be the number of classes <br>\n",
    "Let J = [1,10] be the number of rooms in the school where classrooms are 1-7, cafeteria = 8, gym = 9 and library = 10 <br>\n",
    "Let M = [1,4] be the subscript values for the slack/surplus variable constraints <br>\n",
    "\n",
    "#### Parameters: <br>\n",
    "\n",
    "$ T_{ij} $ = Average Transition Time Matrix for moving from room i to room j, where $\\forall i\\in J$ , $\\forall j\\in J$ and $i \\ne j$  <br> \n",
    "$ E_{ij} $ = Transition Risk Exposure score for moving from room i to room j, where $\\forall i\\in J$ , $\\forall j\\in J$ and $i \\ne j$  <br> \n",
    "$ R_{i} $ = Room Risk Exposure score of room, where $\\forall i\\in J$ <br>\n",
    "\n",
    "\n",
    "#### Decision Variables: <br>\n",
    "\n",
    "$X_{ki} = \\begin{cases}\n",
    "1 & \\mbox{if class k is in room i, where $k \\in K$ and $i \\in J$} \\\\\n",
    "0 & \\mbox{otherwise}\n",
    "\\end{cases}$ <br>\n",
    "\n",
    "$Z_{kij} = \\begin{cases}\n",
    "1 & \\mbox{if class k moving from room i to room j, where $k \\in K$, $i \\in J$, $j \\in J$ and $i \\ne j$} \\\\\n",
    "0 & \\mbox{otherwise}\n",
    "\\end{cases}$ <br>\n",
    "\n",
    "$RT_{kij} = \\begin{cases}\n",
    "1 & \\mbox{if class k is in room i and class k moving from room i to room j, where $i \\in J$} \\\\\n",
    "0 & \\mbox{otherwise}\n",
    "\\end{cases}$ <br>\n",
    "\n",
    "##### Slack and Surplus Variables <br>\n",
    "\n",
    "$ Y^{+}_{mk} $ is a surplus variable and $ Y^{-}_{mk} $ is a slack variable where $\\forall m \\in M$ $and$ $\\forall k \\in K$<br> \n",
    "$ Y^{+}_{1k} $ is a surplus variable and $ Y^{-}_{1k} $ is a slack variable for daily class exposure score <br>\n",
    "$ Y^{+}_{2k} $ is a surplus variable and $ Y^{-}_{2k} $ is a slack variable for room risk exposure score <br>\n",
    "$ Y^{+}_{3k} $ is a surplus variable and $ Y^{-}_{3k} $ is a slack variable for average transition time <br>\n",
    "$ Y^{+}_{4k} $ is a surplus variable and $ Y^{-}_{4k} $ is a slack variable for transition risk exposure score <br>\n",
    "\n",
    "#### Objective Function: <br>\n",
    "\n",
    "$$\\begin{array}{rll}\n",
    "\\text{min} & 3  Y^{+}_{1k} + 2 Y^{+}_{2k} + 2 Y^{+}_{3k} + 2 Y^{+}_{4k} \\\\\n",
    "\\text{s.t.} \n",
    "& \\text{(1) }\\displaystyle \\sum_{i=1}^J X_{ki} R_i + \\sum_{i=1}^J \\sum_{j=1}^J Z_{kij} T_{ij}E_{ij} - (Y^{+}_{1k} - Y^{-}_{1k}) = 300, \\forall k \\in K, i \\ne j \\text{ daily class exposure score goal} \\\\\n",
    "& \\text{(2) }\\displaystyle \\sum_{i=1}^J X_{ki} R_i - (Y^{+}_{2k} - Y^{-}_{2k}) = 25, \\forall k \\in K \\text{ daily class k room cost goal}\\\\\n",
    "& \\text{(3) }\\displaystyle \\sum_{i=1}^J \\sum_{j=1}^J RT_{kij}T_{ij} - (Y^{+}_{3k} - Y^{-}_{3k}) = 40, \\forall k \\in K, i \\ne j \\text{ daily class k transition times goal}\\\\\n",
    "& \\text{(4) }\\displaystyle \\sum_{i=1}^J \\sum_{j=1}^J RT_{kij}E_{ij} - (Y^{+}_{4k} - Y^{-}_{4k}) = 25, \\forall k \\in K, i \\ne j \\text{ daily class k transition exposure risk score goal}\\\\\n",
    "& \\text{(5) }\\displaystyle \\sum_{i=1}^J X_{ki} = 7, \\forall k \\in K,  \\text { class k must transition 7 times in a day} \\\\\n",
    "& \\text{(6) }\\displaystyle X_{ki}+Z_{kij}- 1 \\leq RT_{kij}, \\forall k \\in K, \\forall i\\in J , \\forall j\\in J,i \\ne j, \\text {linearize quadratic constraints} \\\\\n",
    "& \\text{(7) }\\displaystyle X_{k8} = 1, \\forall k \\in K, \\text {each class k must visit the cafeteria once} \\\\\n",
    "& \\text{(8) }\\displaystyle \\sum_{i=1}^J \\sum_{k=1}^K Z_{kij} = 1, \\forall j\\in J,i \\ne j \\text{ a room can only hold one class at once}\\\\\n",
    "& \\displaystyle T_{ij} \\geq 0, \\text {and integer where, }  \\forall i\\in J , \\forall j\\in J,i \\ne j \\\\\n",
    "& \\displaystyle E_{ij} \\geq 0, \\text {and integer where, } \\forall i\\in J , \\forall j\\in J,i \\ne j \\\\\n",
    "& \\displaystyle R_{i} \\geq 0, \\text {and integer where, } \\forall i\\in J \\\\\n",
    "& \\displaystyle X_{ki} \\in \\lbrace0,1\\rbrace \\quad \\forall k \\in K, \\forall i\\in J \\\\\n",
    "& \\displaystyle Z_{kij} \\in \\lbrace0,1\\rbrace \\quad \\forall k \\in K, \\forall i\\in J \\forall j\\in J,i \\ne j \\\\\n",
    "& \\displaystyle RT_{kij} \\in \\lbrace0,1\\rbrace \\quad \\forall i\\in J \\\\\n",
    "& \\displaystyle Y^{+}_{mk}, Y^{-}_{mk} \\geq 0,  \\forall m \\in M, \\text{and } \\forall k \\in K \\text { where } Y^{+}_{mk} \\text {is a surplus variable and }Y^{-}_{mk} \\text { is a slack variable} \\\\ \n",
    "& \\displaystyle K = [1,7] \\text { be the number of classes} \\\\\n",
    "& \\displaystyle J = [1,10] \\text { be the number of rooms in the school where classrooms are 1-7, cafeteria = 8, gym = 9 and library = 10} \\\\ \n",
    "& \\displaystyle M = [1,4] \\text { be the subscript values for the slack/surplus variables} \\\\ \n",
    "\\end{array}$$ <br>\n",
    "\n"
   ]
  },
  {
   "cell_type": "markdown",
   "metadata": {},
   "source": [
    "### Step 0.1: How to run each model instance/test\n",
    "\n",
    "\n",
    "**Instance 1:**\n",
    "\n",
    "    1) \n",
    "\n",
    "**Instance 2:**\n",
    "    \n",
    "    1) \n",
    "\n",
    "**Instance 3:** \n",
    "\n",
    "    1) \n",
    "\n",
    "**Instance 4:**\n",
    "\n",
    "    1) "
   ]
  },
  {
   "cell_type": "markdown",
   "metadata": {},
   "source": [
    "### Step 1: Import gurobipy module"
   ]
  },
  {
   "cell_type": "code",
   "execution_count": 1,
   "metadata": {},
   "outputs": [],
   "source": [
    "# reading file\n",
    "import pandas as pd\n",
    "\n",
    "# model generation and optimization\n",
    "import gurobipy as gp\n",
    "from gurobipy import GRB\n",
    "import random as rd\n",
    "\n",
    "# Generating graphs\n",
    "import matplotlib.pyplot as plt; plt.rcdefaults()\n",
    "import numpy as np\n",
    "import matplotlib.pyplot as plt\n",
    "\n",
    "# exporting to csv\n",
    "import csv\n",
    "from datetime import datetime"
   ]
  },
  {
   "cell_type": "markdown",
   "metadata": {},
   "source": [
    "### Step 1.1 Reading from a file"
   ]
  },
  {
   "cell_type": "code",
   "execution_count": 2,
   "metadata": {},
   "outputs": [],
   "source": [
    "MainFile = pd.read_json(\"Data_Heuristics.txt\",orient='columns') # running the program with Original Data, Instance Test 1 and 2 only\n",
    "# MainFile = pd.read_json(\"Data_Revised.txt\",orient='columns') # Instance Test 4 and 5 Data only\n",
    "# print(MainFile)\n",
    "\n",
    "dataframe = pd.DataFrame(MainFile)\n",
    "# print(dataframe)\n",
    " \n",
    "# print(dataframe['Average Transition Time Matrix']) # printing the Average Transition Time matrix\n",
    "# print(dataframe['Transition Risk Exposure Score']) # printing the Transition Risk Exposure Score matrix\n",
    "# print(dataframe['Room Risk Exposure Score']) # printing the Room Risk Exposure Score matrix\n",
    "\n",
    "# dataframe['Average Transition Time Matrix'][0][0] # grabbing values from matrix ['Average Transition Time Matrix'][i][j] at (row=i,column=j) where i={0-9} and j={0-9}\n",
    "# dataframe['Transition Risk Exposure Score'][9] # grabbing values from matrix ['Transition Risk Exposure Score'][i][j] at (row=i,column=j) where i={0-9} and j={0-9}\n",
    "# dataframe['Room Risk Exposure Score']['Score'][9] # grabbing values from matrix ['Room Risk Exposure Score']['Score'][i] where i={0-9}\n"
   ]
  },
  {
   "cell_type": "markdown",
   "metadata": {},
   "source": [
    "### 2.0 Construction Heuristic: Initializing the Heuristic"
   ]
  },
  {
   "cell_type": "code",
   "execution_count": 3,
   "metadata": {},
   "outputs": [],
   "source": [
    "# initialize the school Schedule\n",
    "def InitializeSchedule():\n",
    "    SchoolSchedule = [[(i+1 if j==0 else 0) for j in range(8)] for i in range(7)] \n",
    "    for i in range(7):     \n",
    "        for j in range(1,8):\n",
    "            if (j == (i+1)):\n",
    "                SchoolSchedule[i][j] = 8\n",
    "    return SchoolSchedule  \n",
    "\n",
    "def printSchedule(SchoolSchedule):\n",
    "    for i in range(7):\n",
    "        print(\"class \"+str(i+1)+\": \"+ str(SchoolSchedule[i]))   "
   ]
  },
  {
   "cell_type": "code",
   "execution_count": 4,
   "metadata": {},
   "outputs": [],
   "source": [
    "def FindAvailableRooms(SchoolSchedule, k,t):\n",
    "    AllRooms = [1,2,3,4,5,6,7,9,10]\n",
    "    RoomsAvailable = []\n",
    "    colmn = [SchoolSchedule[i][t] for i in range(7)]\n",
    "    for i in AllRooms:\n",
    "        if not i in SchoolSchedule[k] and not i in colmn:\n",
    "            RoomsAvailable.append(i)\n",
    "    return RoomsAvailable\n",
    "\n",
    "def InsertRoom(SchoolSchedule, k, t, value):\n",
    "    colmn = [SchoolSchedule[i][t] for i in range(7)]\n",
    "    if not value in SchoolSchedule[k] and not value in colmn:\n",
    "        SchoolSchedule[k][t] = value"
   ]
  },
  {
   "cell_type": "markdown",
   "metadata": {},
   "source": [
    "### 2.1 Construction Heuristic: Initialize a dummy solution "
   ]
  },
  {
   "cell_type": "code",
   "execution_count": 5,
   "metadata": {},
   "outputs": [
    {
     "name": "stdout",
     "output_type": "stream",
     "text": [
      "class 1: [1, 8, 0, 0, 0, 0, 0, 0]\n",
      "class 2: [2, 0, 8, 0, 0, 0, 0, 0]\n",
      "class 3: [3, 0, 0, 8, 0, 0, 0, 0]\n",
      "class 4: [4, 0, 0, 0, 8, 0, 0, 0]\n",
      "class 5: [5, 0, 0, 0, 0, 8, 0, 0]\n",
      "class 6: [6, 0, 0, 0, 0, 0, 8, 0]\n",
      "class 7: [7, 0, 0, 0, 0, 0, 0, 8]\n"
     ]
    }
   ],
   "source": [
    "SchoolSchedule = InitializeSchedule()\n",
    "printSchedule(SchoolSchedule)"
   ]
  },
  {
   "cell_type": "markdown",
   "metadata": {},
   "source": [
    "### 2.2 Construction Heuristic: Iterate through each row and find values that fit"
   ]
  },
  {
   "cell_type": "code",
   "execution_count": 10,
   "metadata": {},
   "outputs": [
    {
     "name": "stdout",
     "output_type": "stream",
     "text": [
      "class 1: [1, 8, 9, 10, 5, 6, 7, 2]\n",
      "class 2: [2, 1, 8, 9, 10, 5, 6, 7]\n",
      "class 3: [3, 9, 1, 8, 6, 10, 5, 4]\n",
      "class 4: [4, 10, 5, 1, 8, 9, 2, 6]\n",
      "class 5: [5, 6, 10, 7, 1, 8, 9, 3]\n",
      "class 6: [6, 5, 7, 2, 9, 1, 8, 10]\n",
      "class 7: [7, 2, 6, 5, 3, 4, 1, 8]\n"
     ]
    }
   ],
   "source": [
    "# SchoolSchedule = InitializeSchedule()\n",
    "for i in range(7):     \n",
    "    for j in range(1,8):\n",
    "        if (SchoolSchedule[i][j] == 8):\n",
    "            continue\n",
    "        RA = FindAvailableRooms(SchoolSchedule,i,j)\n",
    "       # print(str(i)+str(j)+\"\\t\"+str(RA)) # Displays Available rooms for eack class at each period t\n",
    "        MRC = 1000 # minimum risk cost\n",
    "        NR = 0 # Next room to add\n",
    "        a = SchoolSchedule[i][j:j+1]\n",
    "        for value in RA:\n",
    "            c = dataframe['Transition Risk Exposure Score'][a[0]][value-1]\n",
    "            d = dataframe['Room Risk Exposure Score']['Score'][value-1]\n",
    "            RE = c + d\n",
    "            if RE < MRC:\n",
    "                MRC = RE\n",
    "                NR = value\n",
    "#         NR = RandomizedSmallestValue(RA, MRC)\n",
    "#             print(str(i)+str(j)+\"  Value: \"+str(value)+\"\\t\"+str(c)+\"\\t\"+ str(d)+\"\\t\"+str(RE)+\"\\tMRC: \"+str(MRC)+ \"\\tvalue: \"+str(value))\n",
    "#             print(\"Switching rooms at period: \"+str(j)+\"\\t\"+str(SchoolSchedule[i][j])+\"\\t\"+str(NR))\n",
    "        InsertRoom(SchoolSchedule,i,j,NR)\n",
    "printSchedule(SchoolSchedule)"
   ]
  },
  {
   "cell_type": "markdown",
   "metadata": {},
   "source": [
    "#### Exporting to .CSV"
   ]
  },
  {
   "cell_type": "code",
   "execution_count": 7,
   "metadata": {},
   "outputs": [],
   "source": [
    "# Writing to csv\n",
    "# filename = \"TestsResults/testout_\"\n",
    "# timestr = datetime.now().strftime(\"%Y_%m_%d-%I_%M_%S_%p\")\n",
    "\n",
    "# m.write(\"TestsResults/CheckModel_\"+timestr+\".lp\")\n",
    "\n",
    "# with open(filename+timestr+\".csv\", 'w', newline='') as myfile:\n",
    "    \n",
    "#     wr = csv.writer(myfile, quoting=csv.QUOTE_ALL)\n",
    "    \n",
    "#     #first row of csv\n",
    "#     wr.writerow([\"Class i/Room j\"] + [i for i in range(1,11)])\n",
    "    \n",
    "#     # Write each row\n",
    "#     wr.writerows([k+1] + [x[k,i].X for i in range(J)] for k in range(K))"
   ]
  },
  {
   "cell_type": "code",
   "execution_count": null,
   "metadata": {},
   "outputs": [],
   "source": []
  }
 ],
 "metadata": {
  "kernelspec": {
   "display_name": "Python 3",
   "language": "python",
   "name": "python3"
  },
  "language_info": {
   "codemirror_mode": {
    "name": "ipython",
    "version": 3
   },
   "file_extension": ".py",
   "mimetype": "text/x-python",
   "name": "python",
   "nbconvert_exporter": "python",
   "pygments_lexer": "ipython3",
   "version": "3.8.3"
  }
 },
 "nbformat": 4,
 "nbformat_minor": 4
}
